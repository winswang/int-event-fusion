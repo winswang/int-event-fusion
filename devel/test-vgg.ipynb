{
 "cells": [
  {
   "cell_type": "code",
   "execution_count": 1,
   "metadata": {},
   "outputs": [],
   "source": [
    "import numpy as np\n",
    "import tensorflow as tf\n",
    "\n",
    "import utils.tensorflowvgg.vgg19 as vgg19\n",
    "import utils.tensorflowvgg.utils as utils"
   ]
  },
  {
   "cell_type": "code",
   "execution_count": 2,
   "metadata": {},
   "outputs": [
    {
     "name": "stderr",
     "output_type": "stream",
     "text": [
      "/home/winston/anaconda3/envs/py37ml/lib/python3.7/site-packages/skimage/transform/_warps.py:105: UserWarning: The default mode, 'constant', will be changed to 'reflect' in skimage 0.15.\n",
      "  warn(\"The default mode, 'constant', will be changed to 'reflect' in \"\n",
      "/home/winston/anaconda3/envs/py37ml/lib/python3.7/site-packages/skimage/transform/_warps.py:110: UserWarning: Anti-aliasing will be enabled by default in skimage 0.15 to avoid aliasing artifacts when down-sampling images.\n",
      "  warn(\"Anti-aliasing will be enabled by default in skimage 0.15 to \"\n"
     ]
    },
    {
     "name": "stdout",
     "output_type": "stream",
     "text": [
      "/home/winston/git/int-event-fusion/devel/utils/tensorflowvgg/vgg19.npy\n",
      "npy file loaded\n",
      "build model started\n",
      "build model finished: 3s\n",
      "[[8.9925001e-09 9.5813997e-09 1.1830772e-08 ... 4.8134119e-09\n",
      "  1.0855263e-08 6.0674701e-08]\n",
      " [6.2880382e-08 5.3131305e-07 3.6994670e-08 ... 1.6202139e-07\n",
      "  1.1179235e-07 9.5379992e-06]]\n",
      "('Top1: ', 'n02129604 tiger, Panthera tigris', 0.8206325)\n",
      "('Top5: ', [('n02129604 tiger, Panthera tigris', 0.8206325), ('n02123159 tiger cat', 0.17823511), ('n02128925 jaguar, panther, Panthera onca, Felis onca', 0.0007305043), ('n02391049 zebra', 0.00016781644), ('n02123045 tabby, tabby cat', 5.568708e-05)])\n",
      "('Top1: ', 'n03598930 jigsaw puzzle', 0.99510217)\n",
      "('Top5: ', [('n03598930 jigsaw puzzle', 0.99510217), ('n03929660 pick, plectrum, plectron', 0.00043791172), ('n04447861 toilet seat', 0.00040328357), ('n02786058 Band Aid', 0.0003262646), ('n04116512 rubber eraser, rubber, pencil eraser', 0.0002648569)])\n"
     ]
    }
   ],
   "source": [
    "img1 = utils.load_image(\"utils/tensorflowvgg/test_data/tiger.jpeg\")\n",
    "img2 = utils.load_image(\"utils/tensorflowvgg//test_data/puzzle.jpeg\")\n",
    "\n",
    "batch1 = img1.reshape((1, 224, 224, 3))\n",
    "batch2 = img2.reshape((1, 224, 224, 3))\n",
    "\n",
    "batch = np.concatenate((batch1, batch2), 0)\n",
    "\n",
    "# with tf.Session(config=tf.ConfigProto(gpu_options=(tf.GPUOptions(per_process_gpu_memory_fraction=0.7)))) as sess:\n",
    "with tf.device('/cpu:0'):\n",
    "    with tf.Session() as sess:\n",
    "        images = tf.placeholder(\"float\", [2, 224, 224, 3])\n",
    "        feed_dict = {images: batch}\n",
    "\n",
    "        vgg = vgg19.Vgg19()\n",
    "        with tf.name_scope(\"content_vgg\"):\n",
    "            vgg.build(images)\n",
    "\n",
    "        prob = sess.run(vgg.prob, feed_dict=feed_dict)\n",
    "        print(prob)\n",
    "        utils.print_prob(prob[0], 'utils/tensorflowvgg/synset.txt')\n",
    "        utils.print_prob(prob[1], 'utils/tensorflowvgg/synset.txt')"
   ]
  },
  {
   "cell_type": "code",
   "execution_count": null,
   "metadata": {},
   "outputs": [],
   "source": []
  }
 ],
 "metadata": {
  "kernelspec": {
   "display_name": "Python 3",
   "language": "python",
   "name": "python3"
  },
  "language_info": {
   "codemirror_mode": {
    "name": "ipython",
    "version": 3
   },
   "file_extension": ".py",
   "mimetype": "text/x-python",
   "name": "python",
   "nbconvert_exporter": "python",
   "pygments_lexer": "ipython3",
   "version": "3.7.1"
  }
 },
 "nbformat": 4,
 "nbformat_minor": 2
}
